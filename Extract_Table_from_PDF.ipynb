{
  "nbformat": 4,
  "nbformat_minor": 0,
  "metadata": {
    "colab": {
      "provenance": [],
      "authorship_tag": "ABX9TyMzdiDDTZNXjf2a3WyH3IEY",
      "include_colab_link": true
    },
    "kernelspec": {
      "name": "python3",
      "display_name": "Python 3"
    },
    "language_info": {
      "name": "python"
    }
  },
  "cells": [
    {
      "cell_type": "markdown",
      "metadata": {
        "id": "view-in-github",
        "colab_type": "text"
      },
      "source": [
        "<a href=\"https://colab.research.google.com/github/praveenpankaj/AI4Materials/blob/main/Extract_Table_from_PDF.ipynb\" target=\"_parent\"><img src=\"https://colab.research.google.com/assets/colab-badge.svg\" alt=\"Open In Colab\"/></a>"
      ]
    },
    {
      "cell_type": "markdown",
      "source": [
        "Table taken from the supplementary data in: https://pubs.acs.org/doi/10.1021/acs.jpclett.5b01660"
      ],
      "metadata": {
        "id": "FoJ_ntZL7Syn"
      }
    },
    {
      "cell_type": "code",
      "source": [
        "!pip install pdfplumber --quiet"
      ],
      "metadata": {
        "id": "pfYCJTrW6QNN"
      },
      "execution_count": null,
      "outputs": []
    },
    {
      "cell_type": "code",
      "execution_count": 6,
      "metadata": {
        "colab": {
          "base_uri": "https://localhost:8080/",
          "height": 35
        },
        "id": "yEXyDfkk5_G_",
        "outputId": "32520aa8-29f0-48d1-84bb-f1e4d01dc403"
      },
      "outputs": [
        {
          "output_type": "execute_result",
          "data": {
            "text/plain": [
              "'/content/extracted_table.csv'"
            ],
            "application/vnd.google.colaboratory.intrinsic+json": {
              "type": "string"
            }
          },
          "metadata": {},
          "execution_count": 6
        }
      ],
      "source": [
        "import pdfplumber\n",
        "import csv\n",
        "\n",
        "# File path\n",
        "pdf_path = \"/content/jz5b01660_si_001.pdf\"\n",
        "csv_path = \"/content/extracted_table.csv\"\n",
        "\n",
        "# Define the page range\n",
        "start_page = 8\n",
        "end_page = 14\n",
        "\n",
        "# Extract tables\n",
        "tables = []\n",
        "with pdfplumber.open(pdf_path) as pdf:\n",
        "    for page_num in range(start_page - 1, end_page):  # Pages are 0-indexed in pdfplumber\n",
        "        page = pdf.pages[page_num]\n",
        "        extracted_tables = page.extract_tables()\n",
        "        for table in extracted_tables:\n",
        "            tables.extend(table)\n",
        "\n",
        "# Save to CSV\n",
        "with open(csv_path, mode=\"w\", newline=\"\\n\") as file:\n",
        "    writer = csv.writer(file)\n",
        "    writer.writerow(row)\n",
        "\n",
        "csv_path\n"
      ]
    }
  ]
}